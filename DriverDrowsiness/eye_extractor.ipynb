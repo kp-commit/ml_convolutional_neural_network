{
 "cells": [
  {
   "cell_type": "code",
   "execution_count": 2,
   "id": "initial_id",
   "metadata": {
    "ExecuteTime": {
     "end_time": "2023-11-24T12:17:02.812540Z",
     "start_time": "2023-11-24T12:17:02.803097Z"
    },
    "collapsed": true
   },
   "outputs": [],
   "source": [
    "from PIL import Image, ImageDraw\n",
    "import face_recognition\n",
    "import os\n"
   ]
  },
  {
   "cell_type": "code",
   "execution_count": 8,
   "id": "bd44ac05b53b1afc",
   "metadata": {
    "ExecuteTime": {
     "end_time": "2023-11-24T13:06:05.671253Z",
     "start_time": "2023-11-24T13:06:03.732794Z"
    },
    "collapsed": false
   },
   "outputs": [
    {
     "name": "stdout",
     "output_type": "stream",
     "text": [
      "200\n"
     ]
    }
   ],
   "source": [
    "def eye_cropper(folders, output_folder):\n",
    "    # Establish count for iterative file saving\n",
    "    count = 0\n",
    "\n",
    "    # For loop going through each image file\n",
    "    for folder in os.listdir(folders):\n",
    "        for file in os.listdir(folders + '/' + folder):\n",
    "          \n",
    "            out_folder = output_folder + '/' + folder \n",
    "\n",
    "            if not os.path.exists(out_folder):\n",
    "                os.makedirs(out_folder)\n",
    "\n",
    "            # Using Facial Recognition Library on Image\n",
    "            image = face_recognition.load_image_file(folders + '/' + folder + '/' + file)\n",
    "            # create a variable for the facial feature coordinates\n",
    "            face_landmarks_list = face_recognition.face_landmarks(image)\n",
    "          \n",
    "            # create a placeholder list for the eye coordinates\n",
    "            eyes = []\n",
    "            try:\n",
    "                eyes.append(face_landmarks_list[0]['left_eye'])\n",
    "                eyes.append(face_landmarks_list[0]['right_eye'])\n",
    "            except:\n",
    "                continue\n",
    "            # establish the max x and y coordinates of the eye\n",
    "            for eye in eyes:\n",
    "                x_max = max([coordinate[0] for coordinate in eye])\n",
    "                x_min = min([coordinate[0] for coordinate in eye])\n",
    "                y_max = max([coordinate[1] for coordinate in eye])\n",
    "                y_min = min([coordinate[1] for coordinate in eye])\n",
    "              # establish the range of x and y coordinates    \n",
    "                x_range = x_max - x_min\n",
    "                y_range = y_max - y_min\n",
    "              \n",
    "                # to make sure the full eye is captured,\n",
    "                # calculate the coordinates of a square that has 50%\n",
    "                # cushion added to the axis with a larger range\n",
    "                if x_range > y_range:\n",
    "                    right = round(.5*x_range) + x_max\n",
    "                    left = x_min - round(.5*x_range)\n",
    "                    bottom = round(((right-left) - y_range))/2 + y_max\n",
    "                    top = y_min - round(((right-left) - y_range))/2\n",
    "                else:\n",
    "                    bottom = round(.5*y_range) + y_max\n",
    "                    top = y_min - round(.5*y_range)\n",
    "                    right = round(((bottom-top) - x_range))/2 + x_max\n",
    "                    left = x_min - round(((bottom-top) - x_range))/2\n",
    "              \n",
    "                #crop original image using the cushioned coordinates\n",
    "                im = Image.open(folders + '/' + folder + '/' + file)\n",
    "                im = im.crop((left, top, right, bottom))\n",
    "                \n",
    "                # resize image for input into our model\n",
    "                im = im.resize((80,80))\n",
    "              \n",
    "                # save file to output folder\n",
    "                im.save(out_folder + '/' + file)\n",
    "                \n",
    "                # increase count for iterative file saving\n",
    "                count += 1\n",
    "                # print count every 200 photos to monitor progress\n",
    "                if count % 200 == 0:\n",
    "                    print(count)\n",
    "    \n",
    "# Call function to crop full-face eye images\n",
    "#eye_cropper('./data/manual_annotate/train', './data/cropped_1')\n",
    "eye_cropper('./data/manual_annotate/test', './data/test_cropped_1')"
   ]
  }
 ],
 "metadata": {
  "kernelspec": {
   "display_name": "Python 3.10 (tensorflow)",
   "language": "python",
   "name": "tensorflow"
  },
  "language_info": {
   "codemirror_mode": {
    "name": "ipython",
    "version": 3
   },
   "file_extension": ".py",
   "mimetype": "text/x-python",
   "name": "python",
   "nbconvert_exporter": "python",
   "pygments_lexer": "ipython3",
   "version": "3.10.12"
  }
 },
 "nbformat": 4,
 "nbformat_minor": 5
}
